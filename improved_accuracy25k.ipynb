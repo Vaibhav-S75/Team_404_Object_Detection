{
  "cells": [
    {
      "cell_type": "markdown",
      "metadata": {
        "id": "view-in-github",
        "colab_type": "text"
      },
      "source": [
        "<a href=\"https://colab.research.google.com/github/Vaibhav-S75/Team_404_Object_Detection/blob/main/improved_accuracy25k.ipynb\" target=\"_parent\"><img src=\"https://colab.research.google.com/assets/colab-badge.svg\" alt=\"Open In Colab\"/></a>"
      ]
    },
    {
      "cell_type": "code",
      "execution_count": null,
      "metadata": {
        "colab": {
          "base_uri": "https://localhost:8080/"
        },
        "id": "11dxhw_OQge3",
        "outputId": "525c02f8-0594-4717-c054-723467f463e2"
      },
      "outputs": [
        {
          "output_type": "stream",
          "name": "stdout",
          "text": [
            "Drive already mounted at /content/drive; to attempt to forcibly remount, call drive.mount(\"/content/drive\", force_remount=True).\n",
            "Requirement already satisfied: tensorflow in /usr/local/lib/python3.10/dist-packages (2.17.0)\n",
            "Requirement already satisfied: keras in /usr/local/lib/python3.10/dist-packages (3.4.1)\n",
            "Requirement already satisfied: opencv-python-headless in /usr/local/lib/python3.10/dist-packages (4.10.0.84)\n",
            "Requirement already satisfied: matplotlib in /usr/local/lib/python3.10/dist-packages (3.7.1)\n",
            "Requirement already satisfied: absl-py>=1.0.0 in /usr/local/lib/python3.10/dist-packages (from tensorflow) (1.4.0)\n",
            "Requirement already satisfied: astunparse>=1.6.0 in /usr/local/lib/python3.10/dist-packages (from tensorflow) (1.6.3)\n",
            "Requirement already satisfied: flatbuffers>=24.3.25 in /usr/local/lib/python3.10/dist-packages (from tensorflow) (24.3.25)\n",
            "Requirement already satisfied: gast!=0.5.0,!=0.5.1,!=0.5.2,>=0.2.1 in /usr/local/lib/python3.10/dist-packages (from tensorflow) (0.6.0)\n",
            "Requirement already satisfied: google-pasta>=0.1.1 in /usr/local/lib/python3.10/dist-packages (from tensorflow) (0.2.0)\n",
            "Requirement already satisfied: h5py>=3.10.0 in /usr/local/lib/python3.10/dist-packages (from tensorflow) (3.11.0)\n",
            "Requirement already satisfied: libclang>=13.0.0 in /usr/local/lib/python3.10/dist-packages (from tensorflow) (18.1.1)\n",
            "Requirement already satisfied: ml-dtypes<0.5.0,>=0.3.1 in /usr/local/lib/python3.10/dist-packages (from tensorflow) (0.4.1)\n",
            "Requirement already satisfied: opt-einsum>=2.3.2 in /usr/local/lib/python3.10/dist-packages (from tensorflow) (3.4.0)\n",
            "Requirement already satisfied: packaging in /usr/local/lib/python3.10/dist-packages (from tensorflow) (24.1)\n",
            "Requirement already satisfied: protobuf!=4.21.0,!=4.21.1,!=4.21.2,!=4.21.3,!=4.21.4,!=4.21.5,<5.0.0dev,>=3.20.3 in /usr/local/lib/python3.10/dist-packages (from tensorflow) (3.20.3)\n",
            "Requirement already satisfied: requests<3,>=2.21.0 in /usr/local/lib/python3.10/dist-packages (from tensorflow) (2.32.3)\n",
            "Requirement already satisfied: setuptools in /usr/local/lib/python3.10/dist-packages (from tensorflow) (75.1.0)\n",
            "Requirement already satisfied: six>=1.12.0 in /usr/local/lib/python3.10/dist-packages (from tensorflow) (1.16.0)\n",
            "Requirement already satisfied: termcolor>=1.1.0 in /usr/local/lib/python3.10/dist-packages (from tensorflow) (2.5.0)\n",
            "Requirement already satisfied: typing-extensions>=3.6.6 in /usr/local/lib/python3.10/dist-packages (from tensorflow) (4.12.2)\n",
            "Requirement already satisfied: wrapt>=1.11.0 in /usr/local/lib/python3.10/dist-packages (from tensorflow) (1.16.0)\n",
            "Requirement already satisfied: grpcio<2.0,>=1.24.3 in /usr/local/lib/python3.10/dist-packages (from tensorflow) (1.64.1)\n",
            "Requirement already satisfied: tensorboard<2.18,>=2.17 in /usr/local/lib/python3.10/dist-packages (from tensorflow) (2.17.0)\n",
            "Requirement already satisfied: tensorflow-io-gcs-filesystem>=0.23.1 in /usr/local/lib/python3.10/dist-packages (from tensorflow) (0.37.1)\n",
            "Requirement already satisfied: numpy<2.0.0,>=1.23.5 in /usr/local/lib/python3.10/dist-packages (from tensorflow) (1.26.4)\n",
            "Requirement already satisfied: rich in /usr/local/lib/python3.10/dist-packages (from keras) (13.9.3)\n",
            "Requirement already satisfied: namex in /usr/local/lib/python3.10/dist-packages (from keras) (0.0.8)\n",
            "Requirement already satisfied: optree in /usr/local/lib/python3.10/dist-packages (from keras) (0.13.0)\n",
            "Requirement already satisfied: contourpy>=1.0.1 in /usr/local/lib/python3.10/dist-packages (from matplotlib) (1.3.0)\n",
            "Requirement already satisfied: cycler>=0.10 in /usr/local/lib/python3.10/dist-packages (from matplotlib) (0.12.1)\n",
            "Requirement already satisfied: fonttools>=4.22.0 in /usr/local/lib/python3.10/dist-packages (from matplotlib) (4.54.1)\n",
            "Requirement already satisfied: kiwisolver>=1.0.1 in /usr/local/lib/python3.10/dist-packages (from matplotlib) (1.4.7)\n",
            "Requirement already satisfied: pillow>=6.2.0 in /usr/local/lib/python3.10/dist-packages (from matplotlib) (10.4.0)\n",
            "Requirement already satisfied: pyparsing>=2.3.1 in /usr/local/lib/python3.10/dist-packages (from matplotlib) (3.2.0)\n",
            "Requirement already satisfied: python-dateutil>=2.7 in /usr/local/lib/python3.10/dist-packages (from matplotlib) (2.8.2)\n",
            "Requirement already satisfied: wheel<1.0,>=0.23.0 in /usr/local/lib/python3.10/dist-packages (from astunparse>=1.6.0->tensorflow) (0.44.0)\n",
            "Requirement already satisfied: charset-normalizer<4,>=2 in /usr/local/lib/python3.10/dist-packages (from requests<3,>=2.21.0->tensorflow) (3.4.0)\n",
            "Requirement already satisfied: idna<4,>=2.5 in /usr/local/lib/python3.10/dist-packages (from requests<3,>=2.21.0->tensorflow) (3.10)\n",
            "Requirement already satisfied: urllib3<3,>=1.21.1 in /usr/local/lib/python3.10/dist-packages (from requests<3,>=2.21.0->tensorflow) (2.2.3)\n",
            "Requirement already satisfied: certifi>=2017.4.17 in /usr/local/lib/python3.10/dist-packages (from requests<3,>=2.21.0->tensorflow) (2024.8.30)\n",
            "Requirement already satisfied: markdown>=2.6.8 in /usr/local/lib/python3.10/dist-packages (from tensorboard<2.18,>=2.17->tensorflow) (3.7)\n",
            "Requirement already satisfied: tensorboard-data-server<0.8.0,>=0.7.0 in /usr/local/lib/python3.10/dist-packages (from tensorboard<2.18,>=2.17->tensorflow) (0.7.2)\n",
            "Requirement already satisfied: werkzeug>=1.0.1 in /usr/local/lib/python3.10/dist-packages (from tensorboard<2.18,>=2.17->tensorflow) (3.0.4)\n",
            "Requirement already satisfied: markdown-it-py>=2.2.0 in /usr/local/lib/python3.10/dist-packages (from rich->keras) (3.0.0)\n",
            "Requirement already satisfied: pygments<3.0.0,>=2.13.0 in /usr/local/lib/python3.10/dist-packages (from rich->keras) (2.18.0)\n",
            "Requirement already satisfied: mdurl~=0.1 in /usr/local/lib/python3.10/dist-packages (from markdown-it-py>=2.2.0->rich->keras) (0.1.2)\n",
            "Requirement already satisfied: MarkupSafe>=2.1.1 in /usr/local/lib/python3.10/dist-packages (from werkzeug>=1.0.1->tensorboard<2.18,>=2.17->tensorflow) (3.0.2)\n"
          ]
        }
      ],
      "source": [
        "# Step 1: Mount Google Drive and Install Required Libraries\n",
        "from google.colab import drive\n",
        "drive.mount('/content/drive')\n",
        "\n",
        "!pip install tensorflow keras opencv-python-headless matplotlib"
      ]
    },
    {
      "cell_type": "code",
      "execution_count": null,
      "metadata": {
        "id": "sKKdqjRWMjm2"
      },
      "outputs": [],
      "source": [
        "# Step 2: Import Necessary Libraries\n",
        "import os\n",
        "import cv2\n",
        "import numpy as np\n",
        "import json\n",
        "import tensorflow as tf\n",
        "from tensorflow.keras import layers, models\n",
        "from sklearn.model_selection import train_test_split\n",
        "import matplotlib.pyplot as plt\n",
        "import gc\n",
        "import logging\n",
        "\n",
        "# Suppress warnings for invalid category_ids\n",
        "logging.getLogger().setLevel(logging.ERROR)\n",
        "\n",
        "# Step 3: Define Paths and Load Annotations\n",
        "image_folder = '/content/drive/MyDrive/coco_data_set/train2014/train2014'\n",
        "annotations_path = '/content/drive/MyDrive/coco_data_set/annotations/annotations/instances_train2014.json'\n",
        "\n",
        "# Load COCO annotations\n",
        "with open(annotations_path, 'r') as f:\n",
        "    coco_annotations = json.load(f)\n",
        "\n",
        "# Step 4: Create Annotations Dictionary with Filtering Invalid Category IDs\n",
        "valid_category_ids = set(range(1, 81))  # Valid COCO category_ids are 1 to 80\n",
        "annotations_dict = {}\n",
        "for annotation in coco_annotations['annotations']:\n",
        "    image_id = annotation['image_id']\n",
        "    category_id = annotation['category_id']\n",
        "\n",
        "    # Check if the category_id is valid, silently ignore invalid category_id\n",
        "    if category_id in valid_category_ids:\n",
        "        if image_id not in annotations_dict:\n",
        "            annotations_dict[image_id] = []\n",
        "        annotations_dict[image_id].append(annotation)\n",
        "\n"
      ]
    },
    {
      "cell_type": "code",
      "execution_count": null,
      "metadata": {
        "id": "2nJQKit9HbR6"
      },
      "outputs": [],
      "source": [
        "# # len(os.listdir(image_folder))\n",
        "# from tqdm import tqdm\n",
        "# missing_image_ids = [519138, 135420, 61830, 431980, 371598, 337844, 177109, 532482, 77693, 510622]  # Add all missing IDs\n",
        "\n",
        "# all_files = [ ]\n",
        "# for i in tqdm(os.listdir(image_folder)):\n",
        "#   if i not in missing_image_ids:\n",
        "#     all_files.append(i)\n",
        "# print(len(all_files))"
      ]
    },
    {
      "cell_type": "code",
      "execution_count": null,
      "metadata": {
        "id": "FXijSrm3H8xS"
      },
      "outputs": [],
      "source": [
        "# len(all_files)"
      ]
    },
    {
      "cell_type": "code",
      "execution_count": null,
      "metadata": {
        "id": "vlhxD9GGHXzl",
        "colab": {
          "base_uri": "https://localhost:8080/"
        },
        "outputId": "1fdad000-999e-4a06-b4d1-53b295191f68"
      },
      "outputs": [
        {
          "output_type": "stream",
          "name": "stdout",
          "text": [
            "Total existing images after filtering: 25000\n"
          ]
        }
      ],
      "source": [
        "# Step 5: List Image Files and Filter\n",
        "all_files = [img for img in os.listdir(image_folder) if img.endswith(('.jpg', '.jpeg', '.png'))]\n",
        "missing_image_ids = [519138, 135420, 61830, 431980, 371598, 337844, 177109, 532482, 77693, 510622]  # Add all missing IDs\n",
        "\n",
        "existing_images = []\n",
        "image_ids = []\n",
        "for image in all_files[:25000]:  # Using the first 25,000 images\n",
        "    try:\n",
        "        image_id = int(image.split('_')[-1].split('.')[0])\n",
        "        if image_id not in missing_image_ids:\n",
        "            existing_images.append(image)\n",
        "            image_ids.append(image_id)\n",
        "    except ValueError:\n",
        "        print(f\"Skipping file '{image}' due to ValueError.\")\n",
        "\n",
        "print(f\"Total existing images after filtering: {len(existing_images)}\")\n",
        "\n",
        "# Step 6: Preprocess Images Function\n",
        "def preprocess_image(image_path, target_size=(128, 128)):\n",
        "    try:\n",
        "        image = tf.io.read_file(image_path)\n",
        "        image = tf.image.decode_jpeg(image, channels=3)\n",
        "        image = tf.image.resize(image, target_size)\n",
        "        image = image / 255.0  # Normalize to [0, 1]\n",
        "        return image\n",
        "    except Exception as e:\n",
        "        # Suppress error messages and skip problematic images\n",
        "        return None\n",
        "\n",
        "# Step 7: Data Generator for Memory-Efficient Loading\n",
        "def data_generator(image_paths, image_ids, annotations_dict):\n",
        "    num_samples = len(image_paths)\n",
        "    X = []\n",
        "    Y = []\n",
        "    count = 0\n",
        "    for img_path, img_id in zip(image_paths, image_ids):\n",
        "        if count % 100 == 0:\n",
        "          print(f\"{count +1 }/{len(image_ids)}\")\n",
        "        count += 1\n",
        "        img = preprocess_image(os.path.join(image_folder, img_path))\n",
        "        # print(count)\n",
        "        if img is not None:\n",
        "            X.append(img.numpy())\n",
        "            labels = [0] * 80  # COCO has 80 classes\n",
        "            if img_id in annotations_dict:\n",
        "                for anno in annotations_dict[img_id]:\n",
        "                    category_id = anno['category_id']\n",
        "                    # Only set labels for valid category IDs\n",
        "                    if category_id in valid_category_ids:\n",
        "                        labels[category_id - 1] = 1  # Set category label\n",
        "            Y.append(labels)\n",
        "    return np.array(X), np.array(Y)\n",
        "# Step 8: Split Dataset into Training and Validation Sets\n",
        "train_images, val_images, train_ids, val_ids = train_test_split(existing_images, image_ids, test_size=0.2, random_state=42)\n",
        "\n"
      ]
    },
    {
      "cell_type": "code",
      "execution_count": null,
      "metadata": {
        "id": "GVPB7vy1IFCS",
        "colab": {
          "base_uri": "https://localhost:8080/"
        },
        "outputId": "b6774199-840e-4523-dd1e-649d4e3e87a9"
      },
      "outputs": [
        {
          "output_type": "stream",
          "name": "stdout",
          "text": [
            "1/20000\n",
            "101/20000\n",
            "201/20000\n",
            "301/20000\n",
            "401/20000\n",
            "501/20000\n",
            "601/20000\n",
            "701/20000\n",
            "801/20000\n",
            "901/20000\n",
            "1001/20000\n",
            "1101/20000\n",
            "1201/20000\n",
            "1301/20000\n",
            "1401/20000\n",
            "1501/20000\n",
            "1601/20000\n",
            "1701/20000\n",
            "1801/20000\n",
            "1901/20000\n",
            "2001/20000\n",
            "2101/20000\n",
            "2201/20000\n",
            "2301/20000\n",
            "2401/20000\n",
            "2501/20000\n",
            "2601/20000\n",
            "2701/20000\n",
            "2801/20000\n",
            "2901/20000\n",
            "3001/20000\n",
            "3101/20000\n",
            "3201/20000\n",
            "3301/20000\n",
            "3401/20000\n",
            "3501/20000\n",
            "3601/20000\n",
            "3701/20000\n",
            "3801/20000\n",
            "3901/20000\n",
            "4001/20000\n",
            "4101/20000\n",
            "4201/20000\n",
            "4301/20000\n",
            "4401/20000\n",
            "4501/20000\n",
            "4601/20000\n",
            "4701/20000\n",
            "4801/20000\n",
            "4901/20000\n",
            "5001/20000\n",
            "5101/20000\n",
            "5201/20000\n",
            "5301/20000\n",
            "5401/20000\n",
            "5501/20000\n",
            "5601/20000\n",
            "5701/20000\n",
            "5801/20000\n",
            "5901/20000\n",
            "6001/20000\n",
            "6101/20000\n",
            "6201/20000\n",
            "6301/20000\n",
            "6401/20000\n",
            "6501/20000\n",
            "6601/20000\n",
            "6701/20000\n",
            "6801/20000\n",
            "6901/20000\n",
            "7001/20000\n",
            "7101/20000\n",
            "7201/20000\n",
            "7301/20000\n",
            "7401/20000\n",
            "7501/20000\n",
            "7601/20000\n",
            "7701/20000\n",
            "7801/20000\n",
            "7901/20000\n",
            "8001/20000\n",
            "8101/20000\n",
            "8201/20000\n",
            "8301/20000\n",
            "8401/20000\n",
            "8501/20000\n",
            "8601/20000\n",
            "8701/20000\n",
            "8801/20000\n",
            "8901/20000\n",
            "9001/20000\n",
            "9101/20000\n",
            "9201/20000\n",
            "9301/20000\n",
            "9401/20000\n",
            "9501/20000\n",
            "9601/20000\n",
            "9701/20000\n",
            "9801/20000\n",
            "9901/20000\n",
            "10001/20000\n",
            "10101/20000\n",
            "10201/20000\n",
            "10301/20000\n",
            "10401/20000\n",
            "10501/20000\n",
            "10601/20000\n",
            "10701/20000\n",
            "10801/20000\n",
            "10901/20000\n"
          ]
        }
      ],
      "source": [
        "batch_size = 100\n",
        "train_X, train_Y = data_generator(train_images, train_ids, annotations_dict)\n",
        "val_X, val_Y = data_generator(val_images, val_ids, annotations_dict)"
      ]
    },
    {
      "cell_type": "code",
      "execution_count": null,
      "metadata": {
        "id": "mK1Sk6dzJpQh"
      },
      "outputs": [],
      "source": [
        "# next(iter(train_data))"
      ]
    },
    {
      "cell_type": "code",
      "execution_count": null,
      "metadata": {
        "id": "VrxFDAWiItII",
        "colab": {
          "base_uri": "https://localhost:8080/"
        },
        "outputId": "e8005c41-9449-486b-e013-d19fb1ce86f1"
      },
      "outputs": [
        {
          "output_type": "stream",
          "name": "stderr",
          "text": [
            "/usr/local/lib/python3.10/dist-packages/keras/src/layers/convolutional/base_conv.py:107: UserWarning: Do not pass an `input_shape`/`input_dim` argument to a layer. When using Sequential models, prefer using an `Input(shape)` object as the first layer in the model instead.\n",
            "  super().__init__(activity_regularizer=activity_regularizer, **kwargs)\n"
          ]
        }
      ],
      "source": [
        "# Step 9: Define the CNN Model\n",
        "def create_cnn_model(input_shape, num_classes=80):\n",
        "    model = models.Sequential([\n",
        "        layers.Conv2D(32, (3, 3), activation='relu', input_shape=input_shape),\n",
        "        layers.MaxPooling2D((2, 2)),\n",
        "        layers.Conv2D(64, (3, 3), activation='relu'),\n",
        "        layers.MaxPooling2D((2, 2)),\n",
        "        layers.Conv2D(128, (3, 3), activation='relu'),\n",
        "        layers.MaxPooling2D((2, 2)),\n",
        "        layers.Flatten(),\n",
        "        layers.Dense(512, activation='relu'),\n",
        "        layers.Dropout(0.2),  # Add dropout to prevent overfitting\n",
        "        layers.Dense(num_classes, activation='sigmoid')  # Use sigmoid for multi-label classification\n",
        "        # layers.Dense(num_classes, activation='softmax')\n",
        "    ])\n",
        "    return model\n",
        "\n",
        "# Step 10: Compile the Model\n",
        "model = create_cnn_model((128, 128, 3))\n",
        "# model.compile(optimizer='adam', loss='categorical_crossentropy', metrics=['accuracy'])\n",
        "model.compile(optimizer='adam', loss='binary_crossentropy', metrics=['accuracy'])"
      ]
    },
    {
      "cell_type": "code",
      "execution_count": null,
      "metadata": {
        "id": "v6pVGhSuFgRM",
        "colab": {
          "base_uri": "https://localhost:8080/",
          "height": 999
        },
        "outputId": "9fd328dd-a780-4dcc-9291-71ebae70b679"
      },
      "outputs": [
        {
          "output_type": "stream",
          "name": "stdout",
          "text": [
            "Epoch 1/15\n",
            "\u001b[1m3/3\u001b[0m \u001b[32m━━━━━━━━━━━━━━━━━━━━\u001b[0m\u001b[37m\u001b[0m \u001b[1m7s\u001b[0m 2s/step - accuracy: 0.0395 - loss: 0.5268 - val_accuracy: 0.2375 - val_loss: 0.1711\n",
            "Epoch 2/15\n",
            "\u001b[1m3/3\u001b[0m \u001b[32m━━━━━━━━━━━━━━━━━━━━\u001b[0m\u001b[37m\u001b[0m \u001b[1m1s\u001b[0m 149ms/step - accuracy: 0.1554 - loss: 0.2111 - val_accuracy: 0.7500 - val_loss: 0.1430\n",
            "Epoch 3/15\n",
            "\u001b[1m3/3\u001b[0m \u001b[32m━━━━━━━━━━━━━━━━━━━━\u001b[0m\u001b[37m\u001b[0m \u001b[1m1s\u001b[0m 114ms/step - accuracy: 0.4039 - loss: 0.1694 - val_accuracy: 0.7500 - val_loss: 0.1504\n",
            "Epoch 4/15\n",
            "\u001b[1m3/3\u001b[0m \u001b[32m━━━━━━━━━━━━━━━━━━━━\u001b[0m\u001b[37m\u001b[0m \u001b[1m1s\u001b[0m 115ms/step - accuracy: 0.3110 - loss: 0.1673 - val_accuracy: 0.6438 - val_loss: 0.1380\n",
            "Epoch 5/15\n",
            "\u001b[1m3/3\u001b[0m \u001b[32m━━━━━━━━━━━━━━━━━━━━\u001b[0m\u001b[37m\u001b[0m \u001b[1m0s\u001b[0m 111ms/step - accuracy: 0.3694 - loss: 0.1534 - val_accuracy: 0.7500 - val_loss: 0.1370\n",
            "Epoch 6/15\n",
            "\u001b[1m3/3\u001b[0m \u001b[32m━━━━━━━━━━━━━━━━━━━━\u001b[0m\u001b[37m\u001b[0m \u001b[1m0s\u001b[0m 110ms/step - accuracy: 0.4082 - loss: 0.1510 - val_accuracy: 0.7500 - val_loss: 0.1329\n",
            "Epoch 7/15\n",
            "\u001b[1m3/3\u001b[0m \u001b[32m━━━━━━━━━━━━━━━━━━━━\u001b[0m\u001b[37m\u001b[0m \u001b[1m0s\u001b[0m 111ms/step - accuracy: 0.3145 - loss: 0.1468 - val_accuracy: 0.7500 - val_loss: 0.1338\n",
            "Epoch 8/15\n",
            "\u001b[1m3/3\u001b[0m \u001b[32m━━━━━━━━━━━━━━━━━━━━\u001b[0m\u001b[37m\u001b[0m \u001b[1m0s\u001b[0m 117ms/step - accuracy: 0.3711 - loss: 0.1458 - val_accuracy: 0.7500 - val_loss: 0.1311\n",
            "Epoch 9/15\n",
            "\u001b[1m3/3\u001b[0m \u001b[32m━━━━━━━━━━━━━━━━━━━━\u001b[0m\u001b[37m\u001b[0m \u001b[1m0s\u001b[0m 110ms/step - accuracy: 0.4606 - loss: 0.1418 - val_accuracy: 0.7500 - val_loss: 0.1308\n",
            "Epoch 10/15\n",
            "\u001b[1m3/3\u001b[0m \u001b[32m━━━━━━━━━━━━━━━━━━━━\u001b[0m\u001b[37m\u001b[0m \u001b[1m1s\u001b[0m 110ms/step - accuracy: 0.4871 - loss: 0.1397 - val_accuracy: 0.7437 - val_loss: 0.1298\n",
            "Epoch 11/15\n",
            "\u001b[1m3/3\u001b[0m \u001b[32m━━━━━━━━━━━━━━━━━━━━\u001b[0m\u001b[37m\u001b[0m \u001b[1m0s\u001b[0m 112ms/step - accuracy: 0.3943 - loss: 0.1397 - val_accuracy: 0.7437 - val_loss: 0.1294\n",
            "Epoch 12/15\n",
            "\u001b[1m3/3\u001b[0m \u001b[32m━━━━━━━━━━━━━━━━━━━━\u001b[0m\u001b[37m\u001b[0m \u001b[1m1s\u001b[0m 110ms/step - accuracy: 0.4770 - loss: 0.1362 - val_accuracy: 0.7437 - val_loss: 0.1289\n",
            "Epoch 13/15\n",
            "\u001b[1m3/3\u001b[0m \u001b[32m━━━━━━━━━━━━━━━━━━━━\u001b[0m\u001b[37m\u001b[0m \u001b[1m1s\u001b[0m 110ms/step - accuracy: 0.4834 - loss: 0.1382 - val_accuracy: 0.7250 - val_loss: 0.1283\n",
            "Epoch 14/15\n",
            "\u001b[1m3/3\u001b[0m \u001b[32m━━━━━━━━━━━━━━━━━━━━\u001b[0m\u001b[37m\u001b[0m \u001b[1m0s\u001b[0m 127ms/step - accuracy: 0.4968 - loss: 0.1338 - val_accuracy: 0.7375 - val_loss: 0.1279\n",
            "Epoch 15/15\n",
            "\u001b[1m3/3\u001b[0m \u001b[32m━━━━━━━━━━━━━━━━━━━━\u001b[0m\u001b[37m\u001b[0m \u001b[1m1s\u001b[0m 112ms/step - accuracy: 0.5525 - loss: 0.1310 - val_accuracy: 0.7000 - val_loss: 0.1270\n",
            "\u001b[1m1/1\u001b[0m \u001b[32m━━━━━━━━━━━━━━━━━━━━\u001b[0m\u001b[37m\u001b[0m \u001b[1m1s\u001b[0m 578ms/step - accuracy: 0.5950 - loss: 0.1272\n",
            "Validation Loss: 0.1272, Validation Accuracy: 59.50%\n"
          ]
        },
        {
          "output_type": "display_data",
          "data": {
            "text/plain": [
              "<Figure size 1200x400 with 2 Axes>"
            ],
            "image/png": "[encoded data removed]"
          },
          "metadata": {}
        },
        {
          "output_type": "execute_result",
          "data": {
            "text/plain": [
              "8555"
            ]
          },
          "metadata": {},
          "execution_count": 13
        }
      ],
      "source": [
        "history = model.fit(\n",
        "    x=train_X,\n",
        "    y=train_Y,\n",
        "    epochs=15,\n",
        "    validation_split=0.2,\n",
        "    batch_size=256,\n",
        "    verbose=1,\n",
        "    # validation_data=data_generator(val_images, val_ids, annotations_dict, batch_size),\n",
        "    # validation_steps=validation_steps\n",
        ")\n",
        "\n",
        "# Step 12: Evaluate the Model\n",
        "val_loss, val_accuracy = model.evaluate(val_X,val_Y,batch_size=256)\n",
        "print(f\"Validation Loss: {val_loss:.4f}, Validation Accuracy: {val_accuracy*100:.2f}%\")\n",
        "\n",
        "# Step 13: Save the Model\n",
        "model.save('object_detection_model_25k_images.keras')\n",
        "\n",
        "# Step 14: Plot Training History\n",
        "plt.figure(figsize=(12, 4))\n",
        "plt.subplot(1, 2, 1)\n",
        "plt.plot(history.history['accuracy'], label='Training Accuracy')\n",
        "plt.plot(history.history['val_accuracy'], label='Validation Accuracy')\n",
        "plt.title('Model Accuracy')\n",
        "plt.xlabel('Epoch')\n",
        "plt.ylabel('Accuracy')\n",
        "plt.legend()\n",
        "\n",
        "plt.subplot(1, 2, 2)\n",
        "plt.plot(history.history['loss'], label='Training Loss')\n",
        "plt.plot(history.history['val_loss'], label='Validation Loss')\n",
        "plt.title('Model Loss')\n",
        "plt.xlabel('Epoch')\n",
        "plt.ylabel('Loss')\n",
        "plt.legend()\n",
        "\n",
        "plt.tight_layout()\n",
        "plt.show()\n",
        "\n",
        "# Step 15: Clear Memory After Training\n",
        "del model, history\n",
        "gc.collect()\n"
      ]
    },
    {
      "cell_type": "code",
      "execution_count": null,
      "metadata": {
        "id": "z-I-mU8jKA1t"
      },
      "outputs": [],
      "source": []
    }
  ],
  "metadata": {
    "colab": {
      "provenance": [],
      "gpuType": "T4",
      "mount_file_id": "1OHHERCsecP5fhVz8-R0RHMxhUun4vZ1k",
      "authorship_tag": "ABX9TyM/FljqjEwg+W7YqbKiWs94",
      "include_colab_link": true
    },
    "kernelspec": {
      "display_name": "Python 3",
      "name": "python3"
    },
    "language_info": {
      "name": "python"
    },
    "accelerator": "GPU"
  },
  "nbformat": 4,
  "nbformat_minor": 0
}